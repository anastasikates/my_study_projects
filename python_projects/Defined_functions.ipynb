{
  "nbformat": 4,
  "nbformat_minor": 0,
  "metadata": {
    "colab": {
      "provenance": []
    },
    "kernelspec": {
      "name": "python3",
      "display_name": "Python 3"
    },
    "language_info": {
      "name": "python"
    }
  },
  "cells": [
    {
      "cell_type": "code",
      "execution_count": null,
      "metadata": {
        "id": "9RWy-SHEQflN"
      },
      "outputs": [],
      "source": [
        "def fix(arg):\n",
        "    farg=\"\"\n",
        "    for i in arg:\n",
        "        if i == '0' or i=='1' or i == '2' or i=='3'or i == '4' or i == '5' or i == '6' or i=='7' or i == '8' or i == '9' or i == ' ' or i=='+'or i == '-' or i=='=' or i == '*' or i=='/':\n",
        "            farg=farg+i\n",
        "    return print(farg)\n",
        "\n",
        "---\n",
        "\n",
        "def tutny_language(arg):\n",
        "    consonant=['q','w','r','t','p','s','d','f','g','h','j','k','l','z','x','c','v','b','n','m']\n",
        "    narg=''\n",
        "    for i in arg:\n",
        "        if i.lower() in consonant:\n",
        "            narg=narg+i+'u'+i.lower()\n",
        "        else:\n",
        "            narg+=i\n",
        "    return print(narg)\n",
        "\n",
        "---\n",
        "\n",
        "def triangle_classification(x1 ,x2, x3, y1,y2,y3):\n",
        "    side1=((x2-x1)**2+(y2-y1)**2)**(0.5)\n",
        "    side2=((x2-x3)**2+(y2-y3)**2)**(0.5)\n",
        "    side3=((x3-x1)**2+(y3-y1)**2)**(0.5)\n",
        "    if side1+side2>side3 and side1+side3>side2 and side3+side2>side1:\n",
        "        if side1==side2 and side1==side3 and side2==side3:\n",
        "            print('Equilateral')\n",
        "        elif side1==side2 and side1!=side3 and side2!=side3 or side1!=side2 and side1!=side3 and side2==side3 or side1!=side2 and side1==side3 and side2!=side3:\n",
        "            print('Isosceles')\n",
        "        else:\n",
        "            print('Scalene')\n",
        "    else:\n",
        "        print('Not a triangle')"
      ]
    }
  ]
}