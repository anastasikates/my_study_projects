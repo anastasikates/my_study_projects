{
  "nbformat": 4,
  "nbformat_minor": 0,
  "metadata": {
    "colab": {
      "provenance": []
    },
    "kernelspec": {
      "name": "python3",
      "display_name": "Python 3"
    },
    "language_info": {
      "name": "python"
    }
  },
  "cells": [
    {
      "cell_type": "code",
      "execution_count": null,
      "metadata": {
        "colab": {
          "base_uri": "https://localhost:8080/"
        },
        "id": "eCyZ0UbhIE7w",
        "outputId": "ec36489d-0e6b-458b-fd53-d207f1287c85"
      },
      "outputs": [
        {
          "output_type": "stream",
          "name": "stdout",
          "text": [
            "[{\"Time\": \"2023-07-25T09:30:00\", \"Buyer\": \"Иван Иванов\", \"Items\": [{\"Name\": \"Milk\", \"Cost\": 50}, {\"Name\": \"Bread\", \"Cost\": 40}]}, {\"Time\": \"2023-07-25T15:00:00\", \"Buyer\": \"Анна Петрова\", \"Items\": [{\"Name\": \"Bun\", \"Cost\": 30}, {\"Name\": \"Cheese\", \"Cost\": 70}]}]\n",
            "Total morning dairy cost: 50\n",
            "[{'Buyer': 'Анна Петрова', 'Morning_dairy': 0, 'Afternoon_bakery': 30}, {'Buyer': 'Иван Иванов', 'Morning_dairy': 50, 'Afternoon_bakery': 0}]\n"
          ]
        }
      ],
      "source": [
        "receipts = eval(input())\n",
        "bakery=[\"Bread\", \"Bun\", \"Baguette\", \"Pie\", \"Cupcake\"]\n",
        "dairy=[\"Milk\", \"Cheese\", \"Kefir\", \"Yogurt\", \"Cottage cheese\", \"Butter\"]\n",
        "total_morning_dairy_cost=0\n",
        "dairy_bakery_data=[]\n",
        "for dict in receipts:\n",
        "    if 0<=int(dict['Time'][11:13])<=11:\n",
        "        for item in dict['Items']:\n",
        "            if item['Name'] in dairy:\n",
        "                total_morning_dairy_cost+=int(item['Cost'])\n",
        "\n",
        "for dict in receipts:\n",
        "    bakery_cost = 0\n",
        "    dairy_cost = 0\n",
        "    customer={}\n",
        "\n",
        "    if 0<=int(dict['Time'][11:13])<=11:\n",
        "        for item in dict['Items']:\n",
        "            if item['Name'] in dairy:\n",
        "                dairy_cost+=int(item['Cost'])\n",
        "    if 12<= int(dict['Time'][11:13]) <= 23:\n",
        "        for item in dict['Items']:\n",
        "            if item['Name'] in bakery:\n",
        "                bakery_cost += int(item['Cost'])\n",
        "\n",
        "    customer['Buyer']=dict['Buyer']\n",
        "    customer['Morning_dairy']=dairy_cost\n",
        "    customer['Afternoon_bakery']=bakery_cost\n",
        "\n",
        "    dairy_bakery_data.append(customer)\n",
        "\n",
        "print(f'Total morning dairy cost: {total_morning_dairy_cost}')\n",
        "print(sorted(dairy_bakery_data, key=lambda x:x['Buyer']))"
      ]
    },
    {
      "cell_type": "markdown",
      "source": [
        "**Example of input:** [{\"Time\": \"2023-07-25T09:30:00\", \"Buyer\": \"Иван Иванов\", \"Items\": [{\"Name\": \"Milk\", \"Cost\": 50}, {\"Name\": \"Bread\", \"Cost\": 40}]}, {\"Time\": \"2023-07-25T15:00:00\", \"Buyer\": \"Анна Петрова\", \"Items\": [{\"Name\": \"Bun\", \"Cost\": 30}, {\"Name\": \"Cheese\", \"Cost\": 70}]}]"
      ],
      "metadata": {
        "id": "cx8mCaE7Iop1"
      }
    }
  ]
}